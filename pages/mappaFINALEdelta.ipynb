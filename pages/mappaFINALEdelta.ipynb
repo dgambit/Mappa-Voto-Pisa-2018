{
 "cells": [
  {
   "cell_type": "code",
   "execution_count": 40,
   "metadata": {},
   "outputs": [
    {
     "name": "stdout",
     "output_type": "stream",
     "text": [
      "2.7.0\n"
     ]
    },
    {
     "data": {
      "text/html": [
       "<script>requirejs.config({paths: { 'plotly': ['https://cdn.plot.ly/plotly-latest.min']},});if(!window.Plotly) {{require(['plotly'],function(plotly) {window.Plotly=plotly;});}}</script>"
      ],
      "text/vnd.plotly.v1+html": [
       "<script>requirejs.config({paths: { 'plotly': ['https://cdn.plot.ly/plotly-latest.min']},});if(!window.Plotly) {{require(['plotly'],function(plotly) {window.Plotly=plotly;});}}</script>"
      ]
     },
     "metadata": {},
     "output_type": "display_data"
    }
   ],
   "source": [
    "import pandas, os\n",
    "import geopy\n",
    "from geopy.geocoders import Nominatim\n",
    "%matplotlib inline\n",
    "import matplotlib.pyplot as plt\n",
    "import pandas as pd\n",
    "import geopandas as gpd\n",
    "from shapely.geometry import Point, Polygon, LineString\n",
    "from datetime import datetime\n",
    "import folium\n",
    "from folium import plugins\n",
    "import numpy as np\n",
    "import seaborn as sns\n",
    "\n",
    "#############QUESTI CAZZO DI DUE VALORI ANDRANNO DECISI DAL MENU\n",
    "\n",
    "part='ucic'\n",
    "\n",
    "#########################################\n",
    "\n",
    "\n",
    "gps = pd.read_csv('elenco_seggi_gps.csv')\n",
    "p13 = pd.read_csv('pisa_2013.csv')\n",
    "p18 = pd.read_csv('pisa_2018.csv')\n",
    "\n",
    "\n",
    "\n",
    "delta = 0.001\n",
    "\n",
    "noise = [gps['lat'][i] + np.random.uniform(-delta,delta) for i in range(len(gps))]\n",
    "gps['lat_n']=noise\n",
    "noise = [gps['lon'][i] + np.random.uniform(-delta,delta) for i in range(len(gps))]\n",
    "gps['lon_n']=noise\n",
    "\n",
    "\n",
    "\n",
    "vet=sns.diverging_palette(240, 12, s=99,l=50, n=100)\n",
    "vet = [vet[99-i] for i in range(100)]\n",
    "\n",
    "\n",
    "def RGB(r,g,b): \n",
    "    R=int(255*r)\n",
    "    G=int(255*g)\n",
    "    B=int(255*b)\n",
    "    return '#%02x%02x%02x' % (R,G,B)\n",
    "\n",
    "m = folium.Map([43.7159395 , 10.4158624], tiles='Stamen Terrain',\n",
    "               control_scale = True, zoom_start=13)\n",
    "\n",
    "\n",
    "data1=p13\n",
    "data2=p18\n",
    "\n",
    "nseggio = gps['num'].values.tolist()\n",
    "percpart1 = [data1[part][i]/data1['tot'][i]*100 for i in range(len(gps))]\n",
    "percpart2 = [data2[part][i]/data2['tot'][i]*100 for i in range(len(gps))]\n",
    "delta = [float(percpart2[i])-float(percpart1[i]) for i in range(len(gps))] \n",
    "labels = [nseggio[i]+'xxx'+part.title()+': '+'%+.2f' % delta[i]+'%' for i in range(len(gps))]\n",
    "#range di scala +-60%\n",
    "\n",
    "\n",
    "\n",
    "\n",
    "for i in range(len(gps)):\n",
    "    a=(data1[part][i]/data1['tot'][i])*100\n",
    "    b=(data2[part][i]/data2['tot'][i])*100\n",
    "    c=int((b-a+55)*100/110)\n",
    "    #print(c)\n",
    "    col=RGB(vet[c][0],vet[c][1],vet[c][2])\n",
    "    popup = folium.Popup(labels[i], parse_html=True)\n",
    "    folium.CircleMarker(location=[gps['lat_n'][i], gps['lon_n'][i]],\n",
    "                                  radius=20, color='black', fill=True, popup=popup,\n",
    "                                  fill_opacity=0.75, fill_color=col).add_to(m)\n",
    "              \n",
    "m.save(\"delta_\"+part+\".html\")\n",
    "\n",
    "\n",
    "import plotly.plotly as py\n",
    "import plotly.graph_objs as go\n",
    "from plotly import __version__\n",
    "from plotly.offline import download_plotlyjs, init_notebook_mode, plot,iplot\n",
    "print (__version__) # requires version >= 1.9.0\n",
    "init_notebook_mode(connected=True)\n",
    "import plotly.graph_objs as go\n",
    "\n",
    "\n",
    "graph = go.Bar(\n",
    "            x=[i+1 for i in range(86)],\n",
    "            y=delta,\n",
    "    #name='Stazione F.S.',\n",
    "    opacity=0.75,\n",
    "    width=0.75, \n",
    "    marker=dict(\n",
    "        color=[RGB(vet[int(((data2[part][i]/data2['tot'][i])*100-(data1[part][i]/data1['tot'][i])*100+55)*100/110)][0],\n",
    "                   vet[int(((data2[part][i]/data2['tot'][i])*100-(data1[part][i]/data1['tot'][i])*100+55)*100/110)][1],\n",
    "                   vet[int(((data2[part][i]/data2['tot'][i])*100-(data1[part][i]/data1['tot'][i])*100+55)*100/110)][1]) for i in range(len(gps))],\n",
    "        line=dict(\n",
    "            color='black',\n",
    "            width=0.5,)) )\n",
    "data =[graph]\n",
    "\n",
    "layout = go.Layout(\n",
    "    title='Variazione percentuale 2018-2013 - '+ part.title(),\n",
    "    xaxis=dict(\n",
    "        title='Sezione n.',\n",
    "        titlefont=dict(\n",
    "           # family='Sans serif',\n",
    "            size=18,\n",
    "            #color='#000000'\n",
    "        )\n",
    "    ),\n",
    "    yaxis=dict(\n",
    "        title='Variazione %',\n",
    "        titlefont=dict(\n",
    "            #family='Courier New, monospace',\n",
    "            size=18,\n",
    "            #color='#000000'\n",
    "        )\n",
    "    )\n",
    ")\n",
    "\n",
    "fig = go.Figure(data = data, layout = layout)\n",
    "plot_url = plot(fig, filename=\"graph_delta_\"+part+\".html\")\n",
    "\n"
   ]
  },
  {
   "cell_type": "code",
   "execution_count": 34,
   "metadata": {},
   "outputs": [
    {
     "name": "stdout",
     "output_type": "stream",
     "text": [
      "2.7.0\n"
     ]
    },
    {
     "data": {
      "text/html": [
       "<script>requirejs.config({paths: { 'plotly': ['https://cdn.plot.ly/plotly-latest.min']},});if(!window.Plotly) {{require(['plotly'],function(plotly) {window.Plotly=plotly;});}}</script>"
      ],
      "text/vnd.plotly.v1+html": [
       "<script>requirejs.config({paths: { 'plotly': ['https://cdn.plot.ly/plotly-latest.min']},});if(!window.Plotly) {{require(['plotly'],function(plotly) {window.Plotly=plotly;});}}</script>"
      ]
     },
     "metadata": {},
     "output_type": "display_data"
    }
   ],
   "source": []
  }
 ],
 "metadata": {
  "kernelspec": {
   "display_name": "Python 3",
   "language": "python",
   "name": "python3"
  },
  "language_info": {
   "codemirror_mode": {
    "name": "ipython",
    "version": 3
   },
   "file_extension": ".py",
   "mimetype": "text/x-python",
   "name": "python",
   "nbconvert_exporter": "python",
   "pygments_lexer": "ipython3",
   "version": "3.6.4"
  }
 },
 "nbformat": 4,
 "nbformat_minor": 2
}
